{
 "cells": [
  {
   "cell_type": "markdown",
   "metadata": {},
   "source": [
    "# Angry Tweets - analiza Tweetów z wykorzystaniem Pythona\n",
    "\n",
    "Analizie poddany został zbiór danych zawierający kilka tysięcy Tweetów.\n",
    "\n",
    "Dane zawierają informacje o treści danego Tweeta oraz przyporządkowanie do konkretnej kategorii Tweeta: pozytywnej, negatywnej bądź neutralnej.\n",
    "\n",
    "Na bazie posiadanych informacji stworzono algorytm, w wyniku działania którego otrzymujemy Tweety zaklasyfikowane do odpowiednich kategorii."
   ]
  },
  {
   "cell_type": "markdown",
   "metadata": {},
   "source": [
    "## 1. Importowanie bibliotek\n",
    "\n",
    "W celu wykonania zadania, konieczne jest zaimportowanie odpowiednich bibliotek pozwalających odpowiednio przetworzyć dane."
   ]
  },
  {
   "cell_type": "code",
   "execution_count": 2,
   "metadata": {
    "collapsed": true
   },
   "outputs": [],
   "source": [
    "import sys\n",
    "import os\n",
    "import time\n",
    "import pandas as pd\n",
    "import numpy as np\n",
    "import re\n",
    "from sklearn.naive_bayes import GaussianNB\n",
    "from sklearn.naive_bayes import MultinomialNB\n",
    "from sklearn.feature_extraction.text import TfidfVectorizer\n",
    "from sklearn.linear_model import LogisticRegression\n",
    "from sklearn import svm\n",
    "from sklearn.metrics import classification_report"
   ]
  },
  {
   "cell_type": "markdown",
   "metadata": {},
   "source": [
    "## 2. Definiowanie zmiennych\n",
    "\n",
    "Do zmiennej *tweets_set* przypisujemy zawartość pliku train.csv korzystając z funkcji *read_csv* z pakietu *pandas*.\n",
    "\n",
    "Zmienna *classes* jest listą kategorii, do których może zostać zakwalifykowany Tweet.\n",
    "\n",
    "Zmienna *stop_words* jest listą słów z języka angielskiego, które nie będę uwaględnienie w procesie klasyfikacji Tweetów ze względu na zerowy wpływ na przyporządkowanie Tweeta do danej kategorii.\n",
    "\n",
    "Korzystając z metody *random.rand* z pakietu *numpy* dzielimy wczytany zbiór Tweetów na dane treningowe oraz testowe w stosunku 70% treningowe - 30% testowe.\n",
    "\n",
    "Dodatkowe tworzymy puste listy dla Tweetów testowych jak i treningowych, odpowiednio dla ich wartości tekstowej (Data) i kategorii (Label)."
   ]
  },
  {
   "cell_type": "code",
   "execution_count": 8,
   "metadata": {
    "collapsed": false
   },
   "outputs": [],
   "source": [
    "tweets_set= pd.read_csv(\"train.csv\", sep=',', header = 1)\n",
    "\n",
    "classes = ['negative', 'positive', 'neutral']\n",
    "stop_words = ['ourselves', 'hers', 'between', 'yourself', 'but', 'again', 'there', 'about', 'once', 'during', 'out', 'very', 'having', 'with', 'they', 'own', 'an', 'be', 'some', 'for', 'do', 'its', 'yours', 'such', 'into', 'of', 'most', 'itself', 'other', 'off', 'is', 's', 'am', 'or', 'who', 'as', 'from', 'him', 'each', 'the', 'themselves', 'until', 'below', 'are', 'we', 'these', 'your', 'his', 'through', 'don', 'nor', 'me', 'were', 'her', 'more', 'himself', 'this', 'down', 'should', 'our', 'their', 'while', 'above', 'both', 'up', 'to', 'ours', 'had', 'she', 'all', 'no', 'when', 'at', 'any', 'before', 'them', 'same', 'and', 'been', 'have', 'in', 'will', 'on', 'does', 'yourselves', 'then', 'that', 'because', 'what', 'over', 'why', 'so', 'can', 'did', 'not', 'now', 'under', 'he', 'you', 'herself', 'has', 'just', 'where', 'too', 'only', 'myself', 'which', 'those', 'i', 'after', 'few', 'whom', 't', 'being', 'if', 'theirs', 'my', 'against', 'a', 'by', 'doing', 'it', 'how', 'further', 'was', 'here', 'than']\n",
    "\n",
    "temp = np.random.rand(len(tweets_set)) < 0.80\n",
    "tweetsTrain = tweets_set[temp]\n",
    "tweetsTest = tweets_set[~temp]\n",
    "\n",
    "tweetsTrainData = []\n",
    "tweetsTrainLabel = []\n",
    "\n",
    "tweetsTestData = []\n",
    "tweetsTestLabel = []"
   ]
  },
  {
   "cell_type": "markdown",
   "metadata": {},
   "source": [
    "## 3. Przetwarzanie Tweetów\n",
    "\n",
    "Dla każdego wiersza w liście treningowej/testowej Tweetów wykonujemy następujace operacje:\n",
    "\n",
    "Korzystając z funkcji *sub* z biblioteki *re* usuwamy z treści Tweetów wszystkie słowa rozpoczynające się od symbolu @.\n",
    "Używa się go, gdy chce oznaczyć w Tweecie jakiegoś użytkownika, co do procesu klasyfikacji Tweetów nie dostarcza żadnej wartościowej informacji.\n",
    "\n",
    "W następnym kroku analizujemy zawartość Tweeta po wykorzystaniu funkcji *split*, by móc wyszukać w niej słowa występujące w *stop_words*.\n",
    "\n",
    "Po eweuntualnym usunięciu zbędnych słów łączymy zawartość tekstową Tweeta w całość i dodajemy do list *TrainData* i *TrainLabel* odpowiednio zawartość Tweeta i jego klasyfikację."
   ]
  },
  {
   "cell_type": "code",
   "execution_count": 9,
   "metadata": {
    "collapsed": true
   },
   "outputs": [],
   "source": [
    "for index, tweet in tweetsTrain.iterrows():\n",
    "    tweet[2] = re.sub(r'@\\w+', '', tweet[2])\n",
    "    querywords = tweet[2].split()\n",
    "    resultwords  = [word for word in querywords if word.lower() not in stop_words]\n",
    "    tweet[2] = ' '.join(resultwords)\n",
    "    tweetsTrainData.append(tweet[2])\n",
    "    tweetsTrainLabel.append(tweet[1])\n",
    "\n",
    "for index, tweet in tweetsTest.iterrows():\n",
    "    tweet[2] = re.sub(r'@\\w+', '', tweet[2])\n",
    "    querywords = tweet[2].split()\n",
    "    resultwords  = [word for word in querywords if word.lower() not in stop_words]\n",
    "    tweet[2] = ' '.join(resultwords)\n",
    "    tweetsTestData.append(tweet[2])\n",
    "    tweetsTestLabel.append(tweet[1])"
   ]
  },
  {
   "cell_type": "markdown",
   "metadata": {},
   "source": [
    "## 4. Reprezentacja danych\n",
    "\n",
    "Przygotowując dane do klasyfikacji, musimi posiadać obiekty są reprezentowane przez ich cechy.\n",
    "\n",
    "W przypadku Tweetów, tymi cechami są występujące w nich wyrazy.\n",
    "\n",
    "By móc otrzymać racjonalne wyniki klasyfikacji, należu nadać odpowiednie wagi słowom ze wględu na częstotliwość ich występowania w Tweetach.\n",
    "\n",
    "Scikit-learn udostępnia metodę TfidfVectorizer, która transformuje dane wejściowe w vectory nadające się do użycia z klasyfikatorami.\n",
    "\n",
    "Zmienna dla metody *TfidfVectorizer* ustawiamy parametry:\n",
    "\n",
    "   *min_df* - odrzucane są słowa występujące w mniej niż 15 Tweetach,\n",
    "\n",
    "   *max_df* - odrzuca słowa pojawiające się w ponad 80% dokumentów,\n",
    "\n",
    "   *sublinear_tf* i *use_idf* - używanie *sublinear weighting* i *wagowania IDF*\n",
    "\n",
    "Funkcja *fit_transform* tworzy słownik słowo-waga.\n",
    "\n",
    "Funkcja *transform* przemiania dane testowe do odpowiadającej formy słownikowej."
   ]
  },
  {
   "cell_type": "code",
   "execution_count": 10,
   "metadata": {
    "collapsed": true
   },
   "outputs": [],
   "source": [
    "vectorizer = TfidfVectorizer(min_df = 10,\n",
    "                             max_df = 0.80,\n",
    "                             sublinear_tf=True,\n",
    "                             use_idf=True)\n",
    "\n",
    "train_vectors = vectorizer.fit_transform(tweetsTrainData)\n",
    "test_vectors = vectorizer.transform(tweetsTestData)"
   ]
  },
  {
   "cell_type": "markdown",
   "metadata": {},
   "source": [
    "## 5. Klasyfikacja\n",
    "\n",
    "Scikit-learn udostępnia wiele klasyfikatorów. Bo dokonaniu dogłębnych testów, do tego zagadnienia wybrane zostały trzy:\n",
    "\n",
    "*MultinomialNB* - Naiwny Bayes,\n",
    "*LogisticRegression* - Regresja Logistyczna,\n",
    "*LinearSVC* - Linear Support Vector Classification.\n",
    "\n"
   ]
  },
  {
   "cell_type": "code",
   "execution_count": 11,
   "metadata": {
    "collapsed": true
   },
   "outputs": [],
   "source": [
    "classifierNB = MultinomialNB()\n",
    "classifierNB.fit(train_vectors, tweetsTrainLabel)\n",
    "predictionNB=classifierNB.predict(test_vectors)\n",
    "\n",
    "classifierLog = LogisticRegression(penalty='l1')\n",
    "classifierLog.fit(train_vectors, tweetsTrainLabel)\n",
    "predictionLog=classifierLog.predict(test_vectors)\n",
    "\n",
    "classifierLSVC = svm.LinearSVC()\n",
    "classifierLSVC.fit(train_vectors, tweetsTrainLabel)\n",
    "predictionLSVC = classifierLSVC.predict(test_vectors)"
   ]
  },
  {
   "cell_type": "code",
   "execution_count": 12,
   "metadata": {
    "collapsed": false
   },
   "outputs": [
    {
     "name": "stdout",
     "output_type": "stream",
     "text": [
      "Results for MultinomialNB()\n",
      "             precision    recall  f1-score   support\n",
      "\n",
      "   negative       0.54      0.10      0.17       193\n",
      "    neutral       0.51      0.37      0.43       445\n",
      "   positive       0.58      0.86      0.69       574\n",
      "\n",
      "avg / total       0.55      0.56      0.51      1212\n",
      "\n",
      "Results for LogisticRegression()\n",
      "             precision    recall  f1-score   support\n",
      "\n",
      "   negative       0.39      0.16      0.22       193\n",
      "    neutral       0.46      0.35      0.40       445\n",
      "   positive       0.58      0.81      0.68       574\n",
      "\n",
      "avg / total       0.51      0.54      0.50      1212\n",
      "\n",
      "Results for LinearSVC()\n",
      "             precision    recall  f1-score   support\n",
      "\n",
      "   negative       0.40      0.25      0.31       193\n",
      "    neutral       0.47      0.38      0.42       445\n",
      "   positive       0.59      0.75      0.66       574\n",
      "\n",
      "avg / total       0.51      0.53      0.51      1212\n",
      "\n"
     ]
    }
   ],
   "source": [
    "print(\"Results for MultinomialNB()\")\n",
    "print(classification_report(tweetsTestLabel, predictionNB))\n",
    "print(\"Results for LogisticRegression()\")\n",
    "print(classification_report(tweetsTestLabel, predictionLog))\n",
    "print(\"Results for LinearSVC()\")\n",
    "print(classification_report(tweetsTestLabel, predictionLSVC))"
   ]
  }
 ],
 "metadata": {
  "kernelspec": {
   "display_name": "Python 2",
   "language": "python",
   "name": "python2"
  },
  "language_info": {
   "codemirror_mode": {
    "name": "ipython",
    "version": 2
   },
   "file_extension": ".py",
   "mimetype": "text/x-python",
   "name": "python",
   "nbconvert_exporter": "python",
   "pygments_lexer": "ipython2",
   "version": "2.7.12"
  }
 },
 "nbformat": 4,
 "nbformat_minor": 2
}
